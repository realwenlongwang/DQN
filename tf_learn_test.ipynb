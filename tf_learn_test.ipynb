{
 "cells": [
  {
   "cell_type": "code",
   "execution_count": 1,
   "metadata": {
    "collapsed": true
   },
   "outputs": [],
   "source": [
    "import tensorflow as tf"
   ]
  },
  {
   "cell_type": "code",
   "execution_count": 2,
   "metadata": {},
   "outputs": [],
   "source": [
    "def create_net(input_state, variable_scope, layer_list, trainable):\n",
    "    with tf.variable_scope(variable_scope):\n",
    "        layer1 = tf.layers.Dense(units=10, activation=tf.nn.relu,\n",
    "                                 name=\"layer\", trainable=trainable)\n",
    "        layer_list.append(layer1)\n",
    "        layer1_output = layer1(input_state)\n",
    "        layer2 = tf.layers.Dense(units=10, activation=tf.nn.relu, \n",
    "                                 name=\"layer\", trainable=trainable)\n",
    "        layer_list.append(layer2)\n",
    "        layer2_output = layer2(layer1_output)\n",
    "        output_layer = tf.layers.Dense(units=2, name=\"layer\", trainable=trainable)\n",
    "        layer_list.append(output_layer)\n",
    "        output = output_layer(layer2_output)\n",
    "\n",
    "        return output"
   ]
  },
  {
   "cell_type": "code",
   "execution_count": 3,
   "metadata": {},
   "outputs": [],
   "source": [
    "input_state = tf.placeholder(shape=[None, 1], dtype=tf.float32)\n",
    "predict_layer_list = []\n",
    "predict_net = create_net(input_state=input_state, variable_scope=\"predict\",\n",
    "                         layer_list=predict_layer_list, trainable=True)\n",
    "target_layer_list = []\n",
    "target_net = create_net(input_state=input_state, variable_scope=\"target\",\n",
    "                        layer_list=target_layer_list, trainable=False)"
   ]
  },
  {
   "cell_type": "code",
   "execution_count": 4,
   "metadata": {},
   "outputs": [],
   "source": [
    "init_op = tf.global_variables_initializer()\n",
    "sess = tf.Session()"
   ]
  },
  {
   "cell_type": "code",
   "execution_count": 5,
   "metadata": {},
   "outputs": [],
   "source": [
    "sess.run(init_op)"
   ]
  },
  {
   "cell_type": "code",
   "execution_count": 6,
   "metadata": {},
   "outputs": [
    {
     "name": "stdout",
     "output_type": "stream",
     "text": [
      "[[0.04790387 0.10965639]]\n"
     ]
    }
   ],
   "source": [
    "print(sess.run(predict_net, feed_dict={input_state: [[1]]}))"
   ]
  },
  {
   "cell_type": "code",
   "execution_count": 7,
   "metadata": {},
   "outputs": [
    {
     "name": "stdout",
     "output_type": "stream",
     "text": [
      "[[ 0.6123961  -0.22846693]]\n"
     ]
    }
   ],
   "source": [
    "print(sess.run(target_net, feed_dict={input_state: [[1]]}))"
   ]
  },
  {
   "cell_type": "markdown",
   "metadata": {},
   "source": [
    "### Copy net operation"
   ]
  },
  {
   "cell_type": "code",
   "execution_count": 8,
   "metadata": {},
   "outputs": [],
   "source": [
    "for predict_layer, target_layer in zip(predict_layer_list, target_layer_list):\n",
    "    predict_variable_list = predict_layer.variables\n",
    "    target_variable_list = target_layer.variables\n",
    "    for predict_variable, target_variable in zip(predict_variable_list, target_variable_list):\n",
    "        assign_op = tf.assign(ref=target_variable, value=predict_variable)\n",
    "        sess.run(assign_op)"
   ]
  },
  {
   "cell_type": "code",
   "execution_count": 9,
   "metadata": {},
   "outputs": [
    {
     "name": "stdout",
     "output_type": "stream",
     "text": [
      "[[0.04790387 0.10965639]]\n"
     ]
    }
   ],
   "source": [
    "print(sess.run(target_net, feed_dict={input_state: [[1]]}))"
   ]
  },
  {
   "cell_type": "markdown",
   "metadata": {},
   "source": [
    "## Learning Test"
   ]
  },
  {
   "cell_type": "code",
   "execution_count": 10,
   "metadata": {},
   "outputs": [],
   "source": [
    "predict_action = tf.argmax(predict_net, axis=1)\n",
    "predict_q_value = tf.reduce_max(predict_net, axis=1)"
   ]
  },
  {
   "cell_type": "code",
   "execution_count": 11,
   "metadata": {},
   "outputs": [
    {
     "name": "stdout",
     "output_type": "stream",
     "text": [
      "[1]\n[0.10965639]\n"
     ]
    }
   ],
   "source": [
    "print(sess.run(predict_action, feed_dict={input_state: [[1]]}))\n",
    "print(sess.run(predict_q_value, feed_dict={input_state: [[1]]}))"
   ]
  },
  {
   "cell_type": "code",
   "execution_count": 12,
   "metadata": {},
   "outputs": [],
   "source": [
    "experience = [1, 0, -1, 2, False]"
   ]
  },
  {
   "cell_type": "code",
   "execution_count": 13,
   "metadata": {},
   "outputs": [],
   "source": [
    "target_q_value = tf.reduce_max(target_net, axis=1)"
   ]
  },
  {
   "cell_type": "code",
   "execution_count": 14,
   "metadata": {},
   "outputs": [
    {
     "name": "stdout",
     "output_type": "stream",
     "text": [
      "[0.10965639]\n"
     ]
    }
   ],
   "source": [
    "print(sess.run(target_q_value, feed_dict={input_state: [[1]]}))"
   ]
  },
  {
   "cell_type": "code",
   "execution_count": 15,
   "metadata": {},
   "outputs": [],
   "source": [
    "tf_reward = tf.placeholder(shape=[None, 1], dtype=tf.float32)"
   ]
  },
  {
   "cell_type": "code",
   "execution_count": 16,
   "metadata": {},
   "outputs": [],
   "source": [
    "y = tf.add(tf_reward, target_q_value)"
   ]
  },
  {
   "cell_type": "code",
   "execution_count": 17,
   "metadata": {},
   "outputs": [
    {
     "name": "stdout",
     "output_type": "stream",
     "text": [
      "[[-0.8903436]]\n"
     ]
    }
   ],
   "source": [
    "print(sess.run(y, feed_dict={input_state: [[1]], tf_reward: [[experience[2]]]}))"
   ]
  },
  {
   "cell_type": "code",
   "execution_count": 18,
   "metadata": {},
   "outputs": [],
   "source": [
    "loss = tf.losses.mean_squared_error(predictions=predict_q_value, labels=y[0])"
   ]
  },
  {
   "cell_type": "code",
   "execution_count": 19,
   "metadata": {},
   "outputs": [
    {
     "name": "stdout",
     "output_type": "stream",
     "text": [
      "1.0\n"
     ]
    }
   ],
   "source": [
    "print(sess.run(loss, feed_dict={input_state: [[1]], tf_reward: [[experience[2]]]}))"
   ]
  },
  {
   "cell_type": "code",
   "execution_count": 20,
   "metadata": {},
   "outputs": [],
   "source": [
    "train = tf.train.GradientDescentOptimizer(0.01).minimize(loss)"
   ]
  },
  {
   "cell_type": "code",
   "execution_count": 21,
   "metadata": {},
   "outputs": [
    {
     "name": "stdout",
     "output_type": "stream",
     "text": [
      "1.0\n0.6003639\n0.45393926\n0.3321009\n0.2535795\n0.21119145\n0.17944601\n0.15497983\n0.14150068\n0.12924963\n0.12131343\n0.11604818\n0.11119574\n0.10754945\n0.10581057\n0.10278611\n0.101562634\n0.09932118\n0.09762591\n0.096415184\n0.094573915\n0.09346283\n0.0923262\n0.09079591\n0.08965494\n0.088942416\n0.087464415\n0.086167656\n0.085579306\n0.08437022\n0.08302992\n0.08212857\n0.08141091\n0.080003135\n0.07889601\n0.078570716\n0.07755023\n0.07626569\n0.07570253\n0.07499158\n0.07362555\n0.073180474\n0.07237211\n0.071150064\n0.07054392\n0.06997928\n0.06873441\n0.06814961\n0.06762027\n0.06635632\n0.0659662\n0.06531155\n0.064101666\n0.06359727\n0.06306888\n0.061920203\n0.061462086\n0.060887553\n0.059742592\n0.059455015\n0.05883744\n0.05773065\n0.05728402\n0.056785017\n0.055760223\n0.055312395\n0.054937657\n0.05377043\n0.053547926\n0.05285124\n0.051970776\n0.051552504\n0.051113736\n0.050167583\n0.049751807\n0.049342327\n0.04843083\n0.04807324\n0.047599427\n0.046699632\n0.046346717\n0.046011552\n0.045081485\n0.044724204\n0.04429587\n0.043553274\n0.04309176\n0.042802945\n0.042056765\n0.04156457\n0.041232865\n0.040591713\n0.040081043\n0.039886467\n0.039148908\n0.03868561\n0.038521864\n0.037769355\n0.03724003\n0.037161846\n"
     ]
    }
   ],
   "source": [
    "for i in range(100):\n",
    "  _, loss_value = sess.run((train, loss), feed_dict={input_state: [[1], [2], [3], [4]], tf_reward: [[-1], [20], [-1], [-1]]})\n",
    "  print(loss_value)"
   ]
  },
  {
   "cell_type": "code",
   "execution_count": 22,
   "metadata": {},
   "outputs": [
    {
     "name": "stdout",
     "output_type": "stream",
     "text": [
      "[[-0.5819767 -0.5794035]]\n"
     ]
    }
   ],
   "source": [
    "print(sess.run(predict_net, feed_dict={input_state: [[1]]}))"
   ]
  },
  {
   "cell_type": "code",
   "execution_count": 23,
   "metadata": {},
   "outputs": [
    {
     "name": "stdout",
     "output_type": "stream",
     "text": [
      "[[0.04790387 0.10965639]]\n"
     ]
    }
   ],
   "source": [
    "print(sess.run(target_net, feed_dict={input_state: [[1]]}))"
   ]
  },
  {
   "cell_type": "code",
   "execution_count": null,
   "metadata": {},
   "outputs": [],
   "source": []
  }
 ],
 "metadata": {
  "kernelspec": {
   "display_name": "Python 2",
   "language": "python",
   "name": "python2"
  },
  "language_info": {
   "codemirror_mode": {
    "name": "ipython",
    "version": 2
   },
   "file_extension": ".py",
   "mimetype": "text/x-python",
   "name": "python",
   "nbconvert_exporter": "python",
   "pygments_lexer": "ipython2",
   "version": "2.7.6"
  }
 },
 "nbformat": 4,
 "nbformat_minor": 0
}
