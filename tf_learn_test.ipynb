{
 "cells": [
  {
   "cell_type": "code",
   "execution_count": 2,
   "metadata": {
    "collapsed": true
   },
   "outputs": [],
   "source": [
    "import tensorflow as tf"
   ]
  },
  {
   "cell_type": "code",
   "execution_count": 3,
   "metadata": {},
   "outputs": [],
   "source": [
    "def create_net(input_state, variable_scope, layer_list, trainable):\n",
    "    with tf.variable_scope(variable_scope):\n",
    "        layer1 = tf.layers.Dense(units=10, activation=tf.nn.relu,\n",
    "                                 name=\"layer\", trainable=trainable)\n",
    "        layer_list.append(layer1)\n",
    "        layer1_output = layer1(input_state)\n",
    "        layer2 = tf.layers.Dense(units=10, activation=tf.nn.relu, \n",
    "                                 name=\"layer\", trainable=trainable)\n",
    "        layer_list.append(layer2)\n",
    "        layer2_output = layer2(layer1_output)\n",
    "        output_layer = tf.layers.Dense(units=2, name=\"layer\", trainable=trainable)\n",
    "        layer_list.append(output_layer)\n",
    "        output = output_layer(layer2_output)\n",
    "\n",
    "        return output"
   ]
  },
  {
   "cell_type": "code",
   "execution_count": 4,
   "metadata": {},
   "outputs": [],
   "source": [
    "input_state = tf.placeholder(shape=[None, 1], dtype=tf.float32)\n",
    "predict_layer_list = []\n",
    "predict_net = create_net(input_state=input_state, variable_scope=\"predict\",\n",
    "                         layer_list=predict_layer_list, trainable=True)\n",
    "target_layer_list = []\n",
    "target_net = create_net(input_state=input_state, variable_scope=\"target\",\n",
    "                        layer_list=target_layer_list, trainable=False)"
   ]
  },
  {
   "cell_type": "code",
   "execution_count": 5,
   "metadata": {},
   "outputs": [],
   "source": [
    "init_op = tf.global_variables_initializer()\n",
    "sess = tf.Session()"
   ]
  },
  {
   "cell_type": "code",
   "execution_count": 6,
   "metadata": {},
   "outputs": [],
   "source": [
    "sess.run(init_op)"
   ]
  },
  {
   "cell_type": "code",
   "execution_count": 7,
   "metadata": {},
   "outputs": [
    {
     "name": "stdout",
     "output_type": "stream",
     "text": [
      "[[0.507277   0.12137053]]\n"
     ]
    }
   ],
   "source": [
    "print(sess.run(predict_net, feed_dict={input_state: [[1]]}))"
   ]
  },
  {
   "cell_type": "code",
   "execution_count": 8,
   "metadata": {},
   "outputs": [
    {
     "name": "stdout",
     "output_type": "stream",
     "text": [
      "[[-0.9207109  0.359486 ]]\n"
     ]
    }
   ],
   "source": [
    "print(sess.run(target_net, feed_dict={input_state: [[1]]}))"
   ]
  },
  {
   "cell_type": "markdown",
   "metadata": {},
   "source": [
    "### Copy net operation"
   ]
  },
  {
   "cell_type": "code",
   "execution_count": 9,
   "metadata": {},
   "outputs": [],
   "source": [
    "for predict_layer, target_layer in zip(predict_layer_list, target_layer_list):\n",
    "    predict_variable_list = predict_layer.variables\n",
    "    target_variable_list = target_layer.variables\n",
    "    for predict_variable, target_variable in zip(predict_variable_list, target_variable_list):\n",
    "        assign_op = tf.assign(ref=target_variable, value=predict_variable)\n",
    "        sess.run(assign_op)"
   ]
  },
  {
   "cell_type": "code",
   "execution_count": 10,
   "metadata": {},
   "outputs": [
    {
     "name": "stdout",
     "output_type": "stream",
     "text": [
      "[[0.507277   0.12137053]]\n"
     ]
    }
   ],
   "source": [
    "print(sess.run(target_net, feed_dict={input_state: [[1]]}))"
   ]
  },
  {
   "cell_type": "markdown",
   "metadata": {},
   "source": [
    "## Learning Test"
   ]
  },
  {
   "cell_type": "code",
   "execution_count": 11,
   "metadata": {},
   "outputs": [],
   "source": [
    "predict_action = tf.argmax(predict_net, axis=1)\n",
    "predict_q_value = tf.reduce_max(predict_net, axis=1)"
   ]
  },
  {
   "cell_type": "code",
   "execution_count": 12,
   "metadata": {},
   "outputs": [
    {
     "name": "stdout",
     "output_type": "stream",
     "text": [
      "[0]\n[0.507277]\n"
     ]
    }
   ],
   "source": [
    "print(sess.run(predict_action, feed_dict={input_state: [[1]]}))\n",
    "print(sess.run(predict_q_value, feed_dict={input_state: [[1]]}))"
   ]
  },
  {
   "cell_type": "code",
   "execution_count": 13,
   "metadata": {},
   "outputs": [],
   "source": [
    "experience = [1, 0, -1, 2, False]"
   ]
  },
  {
   "cell_type": "code",
   "execution_count": 14,
   "metadata": {},
   "outputs": [],
   "source": [
    "target_q_value = tf.reduce_max(target_net, axis=1)"
   ]
  },
  {
   "cell_type": "code",
   "execution_count": 15,
   "metadata": {},
   "outputs": [
    {
     "name": "stdout",
     "output_type": "stream",
     "text": [
      "[0.507277]\n"
     ]
    }
   ],
   "source": [
    "print(sess.run(target_q_value, feed_dict={input_state: [[1]]}))"
   ]
  },
  {
   "cell_type": "code",
   "execution_count": 16,
   "metadata": {},
   "outputs": [],
   "source": [
    "tf_reward = tf.placeholder(shape=[None, 1], dtype=tf.float32)"
   ]
  },
  {
   "cell_type": "code",
   "execution_count": 17,
   "metadata": {},
   "outputs": [],
   "source": [
    "y = tf.add(tf_reward, target_q_value)"
   ]
  },
  {
   "cell_type": "code",
   "execution_count": 18,
   "metadata": {},
   "outputs": [
    {
     "name": "stdout",
     "output_type": "stream",
     "text": [
      "[[-0.492723]]\n"
     ]
    }
   ],
   "source": [
    "print(sess.run(y, feed_dict={input_state: [[1]], tf_reward: [[experience[2]]]}))"
   ]
  },
  {
   "cell_type": "code",
   "execution_count": 19,
   "metadata": {},
   "outputs": [],
   "source": [
    "loss = tf.losses.mean_squared_error(predictions=predict_q_value, labels=y[0])"
   ]
  },
  {
   "cell_type": "code",
   "execution_count": 20,
   "metadata": {},
   "outputs": [
    {
     "name": "stdout",
     "output_type": "stream",
     "text": [
      "1.0\n"
     ]
    }
   ],
   "source": [
    "print(sess.run(loss, feed_dict={input_state: [[1]], tf_reward: [[experience[2]]]}))"
   ]
  },
  {
   "cell_type": "code",
   "execution_count": 21,
   "metadata": {},
   "outputs": [],
   "source": [
    "train = tf.train.GradientDescentOptimizer(0.01).minimize(loss)"
   ]
  },
  {
   "cell_type": "code",
   "execution_count": 22,
   "metadata": {},
   "outputs": [
    {
     "name": "stdout",
     "output_type": "stream",
     "text": [
      "1.0\n0.5557573\n0.36027858\n0.2602859\n0.20458534\n0.17175789\n0.15157658\n0.13871826\n0.13024181\n0.124451\n0.12033624\n0.11728244\n0.114908025\n0.11297298\n0.11132486\n0.1108696\n0.10968442\n0.10865992\n0.10807277\n0.106662445\n0.10630287\n0.105183646\n0.10408578\n0.10369764\n0.10238564\n0.10175186\n0.10098032\n0.09973967\n0.09938598\n0.09838202\n0.09723218\n0.09700884\n0.09579592\n0.09499042\n0.09457454\n0.09354406\n0.09313699\n0.09253445\n0.09150589\n0.09138288\n0.0905114\n0.089690536\n0.08951609\n0.088452496\n0.08819915\n0.08747854\n0.08679997\n0.08643759\n0.08537757\n0.08541115\n0.08437812\n0.08410912\n0.08337147\n0.082739726\n0.082391724\n0.081535116\n0.0813808\n0.08034004\n0.08027365\n0.07938866\n0.07908096\n0.078436404\n0.07784341\n0.07745394\n0.07667856\n0.076499015\n0.075616956\n0.075516015\n0.0745208\n0.074496225\n0.0735982\n0.07337348\n0.07269667\n0.07229336\n0.07177359\n0.07122156\n0.070851035\n0.0702427\n0.069953\n0.069203824\n0.06904092\n0.068206444\n0.06812562\n0.06723954\n0.06723434\n0.06634015\n0.06634248\n0.06544247\n0.06538552\n0.06461451\n0.064396665\n0.06379975\n0.063504525\n0.062971674\n0.06255923\n0.06214515\n0.061655805\n0.06131443\n0.06078221\n0.0605189\n"
     ]
    }
   ],
   "source": [
    "for i in range(100):\n",
    "  _, loss_value = sess.run((train, loss), feed_dict={input_state: [[1], [2], [3], [4]],\n",
    "                                                     tf_reward: [[-1], [20], [-1], [-1]]})\n",
    "  print(loss_value)"
   ]
  },
  {
   "cell_type": "code",
   "execution_count": 23,
   "metadata": {},
   "outputs": [
    {
     "name": "stdout",
     "output_type": "stream",
     "text": [
      "[[-0.08941148 -0.08794146]]\n"
     ]
    }
   ],
   "source": [
    "print(sess.run(predict_net, feed_dict={input_state: [[1]]}))"
   ]
  },
  {
   "cell_type": "code",
   "execution_count": 24,
   "metadata": {},
   "outputs": [
    {
     "name": "stdout",
     "output_type": "stream",
     "text": [
      "[[0.507277   0.12137053]]\n"
     ]
    }
   ],
   "source": [
    "print(sess.run(target_net, feed_dict={input_state: [[1]]}))"
   ]
  },
  {
   "cell_type": "markdown",
   "metadata": {},
   "source": [
    "## Test the different net architect\n",
    "Predict network need not only the current state input but also the action input"
   ]
  },
  {
   "cell_type": "code",
   "execution_count": 3,
   "metadata": {},
   "outputs": [],
   "source": [
    "def create_predict_net(input_source, variable_scope, layer_list):\n",
    "    with tf.variable_scope(variable_scope):\n",
    "        layer1 = tf.layers.Dense(units=5, activation=tf.nn.relu, name=\"layer\")\n",
    "        layer_list.append(layer1)\n",
    "        # Predict net takes 2 inputs, current state and action\n",
    "        layer1_output = layer1(input_source)\n",
    "\n",
    "        layer2 = tf.layers.Dense(units=5, activation=tf.nn.relu, name=\"layer\")\n",
    "        layer_list.append(layer2)\n",
    "        layer2_output = layer2(layer1_output)\n",
    "\n",
    "        output_layer = tf.layers.Dense(units=1, activation=None, name=\"layer\")\n",
    "        layer_list.append(output_layer)\n",
    "        output = output_layer(layer2_output)\n",
    "\n",
    "        return output"
   ]
  },
  {
   "cell_type": "code",
   "execution_count": 4,
   "metadata": {},
   "outputs": [],
   "source": [
    "input_source = tf.placeholder(shape=(None, 2), dtype=tf.float32)"
   ]
  },
  {
   "cell_type": "code",
   "execution_count": 5,
   "metadata": {},
   "outputs": [],
   "source": [
    "predict_layer_list = []\n",
    "predict_net = create_predict_net(input_source=input_source, variable_scope=\"predict_net\", layer_list=predict_layer_list)"
   ]
  },
  {
   "cell_type": "code",
   "execution_count": 6,
   "metadata": {},
   "outputs": [],
   "source": [
    "init_op = tf.global_variables_initializer()\n",
    "sess = tf.Session()"
   ]
  },
  {
   "cell_type": "code",
   "execution_count": 7,
   "metadata": {},
   "outputs": [],
   "source": [
    "sess.run(init_op)"
   ]
  },
  {
   "cell_type": "code",
   "execution_count": 8,
   "metadata": {},
   "outputs": [
    {
     "name": "stdout",
     "output_type": "stream",
     "text": [
      "[[ 0.        ]\n [-0.00300903]\n [-0.04383451]]\n"
     ]
    }
   ],
   "source": [
    "print(sess.run(predict_net, feed_dict={input_source: [[2, 1], [2, 0], [2, 2]]}))"
   ]
  },
  {
   "cell_type": "code",
   "execution_count": 9,
   "metadata": {},
   "outputs": [],
   "source": [
    "q_value = sess.run(predict_net, feed_dict={input_source: [[2, 1], [2, 0], [2, 2]]})"
   ]
  },
  {
   "cell_type": "code",
   "execution_count": 10,
   "metadata": {},
   "outputs": [
    {
     "data": {
      "text/plain": [
       "numpy.ndarray"
      ]
     },
     "execution_count": 10,
     "metadata": {},
     "output_type": "execute_result"
    }
   ],
   "source": [
    "type(q_value)"
   ]
  },
  {
   "cell_type": "code",
   "execution_count": 11,
   "metadata": {},
   "outputs": [],
   "source": [
    "import numpy as np"
   ]
  },
  {
   "cell_type": "code",
   "execution_count": 12,
   "metadata": {},
   "outputs": [
    {
     "name": "stdout",
     "output_type": "stream",
     "text": [
      "0\n"
     ]
    }
   ],
   "source": [
    "print(np.argmax(q_value))"
   ]
  },
  {
   "cell_type": "code",
   "execution_count": 13,
   "metadata": {},
   "outputs": [
    {
     "name": "stdout",
     "output_type": "stream",
     "text": [
      "0.0\n"
     ]
    }
   ],
   "source": [
    "print(np.amax(q_value))"
   ]
  },
  {
   "cell_type": "markdown",
   "metadata": {},
   "source": [
    "## Test numpy matrix creating"
   ]
  },
  {
   "cell_type": "code",
   "execution_count": 14,
   "metadata": {},
   "outputs": [
    {
     "data": {
      "text/plain": [
       "array([[0., 0.],\n       [0., 0.],\n       [0., 0.]])"
      ]
     },
     "execution_count": 14,
     "metadata": {},
     "output_type": "execute_result"
    }
   ],
   "source": [
    "input_source = np.zeros((3, 2))\n",
    "input_source"
   ]
  },
  {
   "cell_type": "code",
   "execution_count": 15,
   "metadata": {},
   "outputs": [
    {
     "data": {
      "text/plain": [
       "array([0, 1, 2])"
      ]
     },
     "execution_count": 15,
     "metadata": {},
     "output_type": "execute_result"
    }
   ],
   "source": [
    "action_list = np.arange(3)\n",
    "action_list"
   ]
  },
  {
   "cell_type": "code",
   "execution_count": 16,
   "metadata": {},
   "outputs": [
    {
     "data": {
      "text/plain": [
       "101"
      ]
     },
     "execution_count": 16,
     "metadata": {},
     "output_type": "execute_result"
    }
   ],
   "source": [
    "current_state = 101\n",
    "current_state"
   ]
  },
  {
   "cell_type": "code",
   "execution_count": 17,
   "metadata": {},
   "outputs": [
    {
     "data": {
      "text/plain": [
       "array([[101.,   0.],\n       [101.,   1.],\n       [101.,   2.]])"
      ]
     },
     "execution_count": 17,
     "metadata": {},
     "output_type": "execute_result"
    }
   ],
   "source": [
    "for i in range(3):\n",
    "    input_source[i] = (current_state, i)\n",
    "input_source"
   ]
  },
  {
   "cell_type": "code",
   "execution_count": 18,
   "metadata": {},
   "outputs": [],
   "source": [
    "from sklearn import preprocessing"
   ]
  },
  {
   "cell_type": "code",
   "execution_count": 19,
   "metadata": {},
   "outputs": [
    {
     "data": {
      "text/plain": [
       "array([[1.        , 0.        ],\n       [0.99995099, 0.0099005 ],\n       [0.999804  , 0.0197981 ]])"
      ]
     },
     "execution_count": 19,
     "metadata": {},
     "output_type": "execute_result"
    }
   ],
   "source": [
    "input_source_normalised = preprocessing.normalize(input_source)\n",
    "input_source_normalised"
   ]
  },
  {
   "cell_type": "code",
   "execution_count": 24,
   "metadata": {},
   "outputs": [
    {
     "data": {
      "text/plain": [
       "array([[1]])"
      ]
     },
     "execution_count": 24,
     "metadata": {},
     "output_type": "execute_result"
    }
   ],
   "source": [
    "temp = [[1]]\n",
    "temp_np_array = np.asarray(temp)\n",
    "temp_np_array"
   ]
  },
  {
   "cell_type": "code",
   "execution_count": 25,
   "metadata": {},
   "outputs": [],
   "source": [
    "import gym"
   ]
  },
  {
   "cell_type": "code",
   "execution_count": 27,
   "metadata": {},
   "outputs": [],
   "source": [
    "env = gym.make(\"Taxi-v2\")"
   ]
  },
  {
   "cell_type": "code",
   "execution_count": 29,
   "metadata": {},
   "outputs": [
    {
     "name": "stdout",
     "output_type": "stream",
     "text": [
      "Discrete(6)\nDiscrete(500)\n"
     ]
    }
   ],
   "source": [
    "print(env.action_space)\n",
    "print(env.observation_space)"
   ]
  },
  {
   "cell_type": "code",
   "execution_count": null,
   "metadata": {},
   "outputs": [],
   "source": []
  }
 ],
 "metadata": {
  "kernelspec": {
   "display_name": "Python 2",
   "language": "python",
   "name": "python2"
  },
  "language_info": {
   "codemirror_mode": {
    "name": "ipython",
    "version": 2
   },
   "file_extension": ".py",
   "mimetype": "text/x-python",
   "name": "python",
   "nbconvert_exporter": "python",
   "pygments_lexer": "ipython2",
   "version": "2.7.6"
  }
 },
 "nbformat": 4,
 "nbformat_minor": 0
}
