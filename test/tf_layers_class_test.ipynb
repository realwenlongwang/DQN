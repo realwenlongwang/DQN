{
 "cells": [
  {
   "cell_type": "markdown",
   "metadata": {},
   "source": [
    "# Layer Class Test\n",
    "---\n",
    "Try to modify the weights and bias created by the layers class."
   ]
  },
  {
   "cell_type": "code",
   "execution_count": 1,
   "metadata": {
    "collapsed": true
   },
   "outputs": [],
   "source": [
    "import tensorflow as tf"
   ]
  },
  {
   "cell_type": "code",
   "execution_count": 2,
   "metadata": {},
   "outputs": [],
   "source": [
    "def create_net(variable_scope, layer_list):\n",
    "    with tf.variable_scope(variable_scope):\n",
    "        layer1 = tf.layers.Dense(units=10, activation=tf.nn.relu,\n",
    "                                 kernel_initializer=tf.zeros_initializer(),\n",
    "                                 name=\"layer\"\n",
    "                                 )\n",
    "        layer_list.append(layer1)\n",
    "        layer2 = tf.layers.Dense(units=10, activation=tf.nn.relu,\n",
    "                                 kernel_initializer=tf.zeros_initializer(),\n",
    "                                 name=\"layer\"\n",
    "                                 )\n",
    "        layer_list.append(layer2)\n",
    "        output_layer = tf.layers.Dense(units=1,\n",
    "                                       kernel_initializer=tf.zeros_initializer(),\n",
    "                                       name=\"layer\"\n",
    "                                       )\n",
    "        layer_list.append(output_layer)"
   ]
  },
  {
   "cell_type": "code",
   "execution_count": 6,
   "metadata": {},
   "outputs": [],
   "source": [
    "tf.reset_default_graph()\n",
    "# state = tf.constant([[1], [2], [3], [4]], dtype=tf.float32)\n",
    "state = tf.placeholder(shape=[None, 1], dtype=tf.float32)\n",
    "\n",
    "collections = [\"predict_net_params\", tf.GraphKeys.GLOBAL_VARIABLES]\n",
    "\n",
    "predict_layer_list = []\n",
    "create_net(\"predict_net_params\", predict_layer_list)\n",
    "\n",
    "target_layer_list = []\n",
    "create_net(\"target_net_params\", target_layer_list)\n",
    "    \n",
    "q_predict = state\n",
    "for layer in predict_layer_list:\n",
    "    q_predict = layer(q_predict)\n",
    "    \n",
    "q_target = state\n",
    "for layer in target_layer_list:\n",
    "    q_target = layer(q_target)"
   ]
  },
  {
   "cell_type": "code",
   "execution_count": 7,
   "metadata": {},
   "outputs": [],
   "source": [
    "# Always remember variable initialisation\n",
    "init_op = tf.global_variables_initializer()\n",
    "sess = tf.Session()\n",
    "sess.run(init_op)"
   ]
  },
  {
   "cell_type": "markdown",
   "metadata": {},
   "source": [
    "### Get all the layers and change their variables"
   ]
  },
  {
   "cell_type": "code",
   "execution_count": 8,
   "metadata": {},
   "outputs": [],
   "source": [
    "for layer in predict_layer_list:\n",
    "    variable_list = layer.variables\n",
    "    for variable in variable_list:\n",
    "        assignment = tf.constant(value=1, shape=variable.shape, dtype=variable.dtype)\n",
    "        assign_op = tf.assign(ref=variable, value=assignment)\n",
    "        sess.run(assign_op)"
   ]
  },
  {
   "cell_type": "code",
   "execution_count": 9,
   "metadata": {},
   "outputs": [],
   "source": [
    "for layer in target_layer_list:\n",
    "    variable_list = layer.variables\n",
    "    for variable in variable_list:\n",
    "        assignment = tf.constant(value=2, shape=variable.shape, dtype=variable.dtype)\n",
    "        assign_op = tf.assign(ref=variable, value=assignment)\n",
    "        sess.run(assign_op)"
   ]
  },
  {
   "cell_type": "code",
   "execution_count": 11,
   "metadata": {},
   "outputs": [
    {
     "name": "stdout",
     "output_type": "stream",
     "text": [
      "[[211.]\n [311.]\n [411.]\n [511.]]\n[[1642.]\n [2442.]\n [3242.]\n [4042.]]\n"
     ]
    }
   ],
   "source": [
    "print(sess.run(q_predict, feed_dict={state: [[1], [2], [3], [4]]}))\n",
    "print(sess.run(q_target, feed_dict={state: [[1], [2], [3], [4]]}))"
   ]
  },
  {
   "cell_type": "markdown",
   "metadata": {},
   "source": [
    "### Argmax test"
   ]
  },
  {
   "cell_type": "code",
   "execution_count": 8,
   "metadata": {},
   "outputs": [],
   "source": [
    "import numpy as np"
   ]
  },
  {
   "cell_type": "code",
   "execution_count": 13,
   "metadata": {},
   "outputs": [
    {
     "name": "stdout",
     "output_type": "stream",
     "text": [
      "3\n"
     ]
    }
   ],
   "source": [
    "\n",
    "idx = sess.run(tf.argmax(q_predict), feed_dict={state: [[1], [2], [3], [4]]})\n",
    "print(idx[0])"
   ]
  },
  {
   "cell_type": "code",
   "execution_count": 17,
   "metadata": {},
   "outputs": [
    {
     "name": "stdout",
     "output_type": "stream",
     "text": [
      "3\n"
     ]
    }
   ],
   "source": [
    "\n",
    "[idx] = sess.run(tf.argmax(q_predict), feed_dict={state: [[1], [2], [3], [4]]})\n",
    "print(idx)"
   ]
  },
  {
   "cell_type": "code",
   "execution_count": 20,
   "metadata": {},
   "outputs": [
    {
     "name": "stdout",
     "output_type": "stream",
     "text": [
      "511.0\n"
     ]
    }
   ],
   "source": [
    "[scalar] = q_values[idx]\n",
    "print(scalar)"
   ]
  },
  {
   "cell_type": "code",
   "execution_count": 25,
   "metadata": {},
   "outputs": [
    {
     "name": "stdout",
     "output_type": "stream",
     "text": [
      "511.0\n"
     ]
    }
   ],
   "source": [
    "q_max = tf.reduce_max(q_predict)\n",
    "print(sess.run(q_max))\n"
   ]
  },
  {
   "cell_type": "markdown",
   "metadata": {},
   "source": [
    "### scope initialisation test"
   ]
  },
  {
   "cell_type": "code",
   "execution_count": 21,
   "metadata": {},
   "outputs": [
    {
     "name": "stdout",
     "output_type": "stream",
     "text": [
      "13\n"
     ]
    }
   ],
   "source": [
    "if True:\n",
    "    a = 13\n",
    "    \n",
    "print(a)"
   ]
  },
  {
   "cell_type": "markdown",
   "metadata": {},
   "source": [
    "### Scalar placeholder test"
   ]
  },
  {
   "cell_type": "code",
   "execution_count": 26,
   "metadata": {},
   "outputs": [
    {
     "name": "stdout",
     "output_type": "stream",
     "text": [
      "3.0\n"
     ]
    }
   ],
   "source": [
    "scalar = tf.placeholder(dtype=tf.float32, shape=(), name=\"scalar\")\n",
    "one = tf.constant(dtype=tf.float32, value=1)\n",
    "addition = tf.add(scalar, one)\n",
    "print(sess.run(addition,feed_dict={scalar: 2}))"
   ]
  },
  {
   "cell_type": "code",
   "execution_count": null,
   "metadata": {},
   "outputs": [],
   "source": []
  }
 ],
 "metadata": {
  "kernelspec": {
   "display_name": "Python 2",
   "language": "python",
   "name": "python2"
  },
  "language_info": {
   "codemirror_mode": {
    "name": "ipython",
    "version": 2
   },
   "file_extension": ".py",
   "mimetype": "text/x-python",
   "name": "python",
   "nbconvert_exporter": "python",
   "pygments_lexer": "ipython2",
   "version": "2.7.6"
  }
 },
 "nbformat": 4,
 "nbformat_minor": 0
}
