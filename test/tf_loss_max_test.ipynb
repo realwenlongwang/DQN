{
 "cells": [
  {
   "cell_type": "code",
   "execution_count": 1,
   "metadata": {
    "collapsed": true
   },
   "outputs": [],
   "source": [
    "import tensorflow as tf"
   ]
  },
  {
   "cell_type": "code",
   "execution_count": 2,
   "metadata": {},
   "outputs": [],
   "source": [
    "x = tf.constant([[1], [2], [3], [4]], dtype=tf.float32)\n",
    "y_true = tf.constant([[0], [-1], [-2], [-3]], dtype=tf.float32)"
   ]
  },
  {
   "cell_type": "code",
   "execution_count": 3,
   "metadata": {},
   "outputs": [],
   "source": [
    "linear_model = tf.layers.Dense(units=2)\n",
    "\n",
    "y_pred = linear_model(x)"
   ]
  },
  {
   "cell_type": "code",
   "execution_count": 4,
   "metadata": {},
   "outputs": [
    {
     "name": "stdout",
     "output_type": "stream",
     "text": [
      "[[-0.8502176  0.9561175]\n [-1.7004352  1.912235 ]\n [-2.5506527  2.8683524]\n [-3.4008703  3.82447  ]]\n"
     ]
    }
   ],
   "source": [
    "sess = tf.Session()\n",
    "init = tf.global_variables_initializer()\n",
    "sess.run(init)\n",
    "\n",
    "print(sess.run(y_pred))"
   ]
  },
  {
   "cell_type": "code",
   "execution_count": 5,
   "metadata": {},
   "outputs": [],
   "source": [
    "max_pred = tf.reduce_max(y_pred, axis=1, keepdims=True)\n",
    "max_list = sess.run(max_pred)"
   ]
  },
  {
   "cell_type": "code",
   "execution_count": 8,
   "metadata": {},
   "outputs": [
    {
     "name": "stdout",
     "output_type": "stream",
     "text": [
      "19.917381\n"
     ]
    }
   ],
   "source": [
    "loss = tf.losses.mean_squared_error(labels=y_true, predictions=max_pred)\n",
    "print(sess.run(loss))"
   ]
  },
  {
   "cell_type": "code",
   "execution_count": 9,
   "metadata": {},
   "outputs": [],
   "source": [
    "optimizer = tf.train.GradientDescentOptimizer(0.01)\n",
    "train = optimizer.minimize(loss)"
   ]
  },
  {
   "cell_type": "code",
   "execution_count": 10,
   "metadata": {},
   "outputs": [
    {
     "name": "stdout",
     "output_type": "stream",
     "text": [
      "19.917381\n13.931934\n9.77809\n6.8951607\n4.8940983\n3.5049477\n2.5403934\n1.8704617\n1.4049661\n1.0813283\n0.85612637\n0.6992308\n0.5897355\n0.5131339\n0.45936033\n0.42143023\n0.3944974\n0.37519908\n0.3566591\n0.33207726\n0.31365433\n0.2996065\n0.28867197\n0.27995792\n0.2728327\n0.26684916\n0.26169088\n0.25713357\n0.2530183\n0.2492324\n0.2456958\n0.24235158\n0.23915927\n0.23608974\n0.23252977\n0.21720254\n0.20365593\n0.19158094\n0.1807371\n0.17078514\n0.15572345\n0.14302939\n0.13455632\n0.1325165\n0.13086706\n0.12948988\n0.12830299\n0.12724952\n0.12629005\n0.12539707\n0.1245517\n0.12374065\n0.122954756\n0.12218766\n0.12143492\n0.12069352\n0.11996124\n0.119236596\n0.118518576\n0.11780635\n0.11709959\n0.11639774\n0.115700595\n0.11500803\n0.11431983\n0.113635935\n0.11295624\n0.112280734\n0.11160928\n0.11094184\n0.11027851\n0.109619126\n0.10896368\n0.10831219\n0.10766459\n0.107020885\n0.10638101\n0.10574496\n0.10511274\n0.1044843\n0.1038596\n0.103238635\n0.10262137\n0.102007836\n0.10139791\n0.10079169\n0.10018906\n0.09959005\n0.09899461\n0.09840273\n0.0978144\n0.097229615\n0.09664828\n0.09607042\n0.095496014\n0.09492508\n0.094357505\n0.09379339\n0.0932326\n0.0926752\n"
     ]
    }
   ],
   "source": [
    "for i in range(100):\n",
    "  _, loss_value = sess.run((train, loss))\n",
    "  print(loss_value)"
   ]
  },
  {
   "cell_type": "code",
   "execution_count": 11,
   "metadata": {},
   "outputs": [
    {
     "name": "stdout",
     "output_type": "stream",
     "text": [
      "[[-0.49008298 -1.0059184 ]\n [-1.2374797  -1.6016814 ]\n [-1.9848764  -2.1974442 ]\n [-2.732273   -2.7932072 ]]\n"
     ]
    }
   ],
   "source": [
    "print(sess.run(y_pred))"
   ]
  },
  {
   "cell_type": "code",
   "execution_count": null,
   "metadata": {},
   "outputs": [],
   "source": []
  }
 ],
 "metadata": {
  "kernelspec": {
   "display_name": "Python 2",
   "language": "python",
   "name": "python2"
  },
  "language_info": {
   "codemirror_mode": {
    "name": "ipython",
    "version": 2
   },
   "file_extension": ".py",
   "mimetype": "text/x-python",
   "name": "python",
   "nbconvert_exporter": "python",
   "pygments_lexer": "ipython2",
   "version": "2.7.6"
  }
 },
 "nbformat": 4,
 "nbformat_minor": 0
}
